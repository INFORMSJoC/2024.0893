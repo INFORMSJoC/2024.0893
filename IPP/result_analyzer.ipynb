{
 "cells": [
  {
   "cell_type": "code",
   "execution_count": null,
   "metadata": {},
   "outputs": [],
   "source": [
    "import os\n",
    "\n",
    "import pandas as pd\n",
    "import numpy as np\n",
    "\n",
    "dir_path = os.path.abspath('')\n",
    "data_path = os.path.abspath(os.path.join(dir_path, '..', \"data\"))\n",
    "results_path = os.path.abspath(os.path.join(dir_path, '..', \"results\"))\n",
    "figures_path = os.path.abspath(os.path.join(dir_path, '..', \"figures\"))\n",
    "tables_path = os.path.abspath(os.path.join(dir_path, '..', \"tables\"))\n",
    "import ast\n",
    "\n",
    "import re\n",
    "import matplotlib.pyplot as plt\n",
    "import seaborn as sns\n",
    "from matplotlib import rc\n",
    "\n",
    "uav_table_order = [ 'uav-8', 'uav-8-OC', 'uav-9', 'uav-9-OC', 'uav-10', 'uav-10-OC']\n",
    "\n",
    "# rc('font', **{'family': 'serif', 'serif': ['Computer Modern'], 'size':16})\n",
    "font = {'family' : 'normal',\n",
    "        'size'   : 22}\n",
    "\n",
    "rc('font', **font)\n",
    "rc('text', usetex=True)"
   ]
  },
  {
   "cell_type": "markdown",
   "metadata": {},
   "source": [
    "# Clean and compile file"
   ]
  },
  {
   "cell_type": "code",
   "execution_count": null,
   "metadata": {},
   "outputs": [],
   "source": [
    "def get_files_by_problem_types() -> pd.DataFrame:\n",
    "    all_results = os.listdir(results_path)\n",
    "    full_results = []\n",
    "    for file_name in all_results:\n",
    "        if file_name[-4:] != \".pkl\":\n",
    "            continue\n",
    "        rounds_match = re.match(rf\".*_([\\d|None]+).pkl\", file_name)\n",
    "        assert rounds_match is not None\n",
    "        df = pd.read_pickle(f\"{results_path}/{file_name}\")\n",
    "        full_results.append(df)\n",
    "\n",
    "    full_results_df = pd.concat(full_results)\n",
    "\n",
    "    return full_results_df"
   ]
  },
  {
   "cell_type": "code",
   "execution_count": null,
   "metadata": {},
   "outputs": [],
   "source": [
    "df = get_files_by_problem_types()\n",
    "# Make column of \n",
    "df['problem_arguments'] = df['problem_arguments'].apply(lambda x: ast.literal_eval(x))\n",
    "df = pd.concat([df.drop(['problem_arguments'], axis=1), df['problem_arguments'].apply(pd.Series)], axis=1)\n",
    "df['number_of_rounds'].fillna(np.inf, inplace=True)\n",
    "df.loc[df['problem'] == \"uav\", \"num_scenarios\"] = df.loc[df['problem'] == 'uav', 'l']**2\n",
    "assert (df.groupby(['number_of_rounds', \"name\"])[\"num_scenarios\"].mean() == df.groupby(['number_of_rounds', \"name\"])[\"item_\"].nunique()).all()\n",
    "scenario_check = df.groupby(['number_of_rounds', \"name\"])[\"item_\"].agg([\"count\", \"nunique\"])"
   ]
  },
  {
   "cell_type": "code",
   "execution_count": null,
   "metadata": {},
   "outputs": [],
   "source": [
    "option = 1\n",
    "if option == 0:\n",
    "    df = df[(df['number_of_rounds'] < 50) | (df['number_of_rounds'] > 999999)]\n",
    "else:\n",
    "    df = df[df['number_of_rounds'] < 999999]\n",
    "    df.loc[df['number_of_rounds'] > 50, 'number_of_rounds'] = np.inf"
   ]
  },
  {
   "cell_type": "code",
   "execution_count": null,
   "metadata": {},
   "outputs": [],
   "source": [
    "fully_adaptive_cost = df.loc[np.isinf(df['number_of_rounds']), ['name', 'item_', 'grand_tour_cost']]\n",
    "df = df.merge(fully_adaptive_cost, on=['name', 'item_'], suffixes=('', '_fully_adaptive'))\n",
    "df['relative_difference'] = (df['grand_tour_cost'] - df['grand_tour_cost_fully_adaptive'])/df['grand_tour_cost_fully_adaptive'] * 100"
   ]
  },
  {
   "cell_type": "code",
   "execution_count": null,
   "metadata": {},
   "outputs": [],
   "source": [
    "df[\"name\"].replace({\"uav-10-oc\": \"uav-10-OC\"}, inplace=True)"
   ]
  },
  {
   "cell_type": "code",
   "execution_count": null,
   "metadata": {},
   "outputs": [],
   "source": [
    "df[\"name\"].replace({\"road-60-50\": \"road-60-1\"}, inplace=True)\n",
    "df[\"name\"].replace({\"road-60-50-2\": \"road-60-2\"}, inplace=True)\n",
    "df[\"name\"].replace({\"road-62-50\": \"road-62-1\"}, inplace=True)\n",
    "df[\"name\"].replace({\"road-62-50-2\": \"road-62-2\"}, inplace=True)\n",
    "df[\"name\"].replace({\"road-64-50\": \"road-64-1\"}, inplace=True)\n",
    "df[\"name\"].replace({\"road-64-50-2\": \"road-64-2\"}, inplace=True)\n",
    "df[\"name\"].replace({\"road-66-50\": \"road-66-1\"}, inplace=True)\n",
    "df[\"name\"].replace({\"road-66-50-2\": \"road-66-2\"}, inplace=True)\n",
    "df[\"name\"].replace({\"road-68-50\": \"road-68-1\"}, inplace=True)\n",
    "df[\"name\"].replace({\"road-68-50-2\": \"road-68-2\"}, inplace=True)"
   ]
  },
  {
   "cell_type": "code",
   "execution_count": null,
   "metadata": {},
   "outputs": [],
   "source": [
    "df.head()"
   ]
  },
  {
   "cell_type": "markdown",
   "metadata": {},
   "source": [
    "Eyeball that the number of scenario make sense"
   ]
  },
  {
   "cell_type": "code",
   "execution_count": null,
   "metadata": {},
   "outputs": [],
   "source": [
    "scenario_check.unstack()\n"
   ]
  },
  {
   "cell_type": "code",
   "execution_count": null,
   "metadata": {},
   "outputs": [],
   "source": [
    "# Check all data are collected.\n",
    "print(50*12)\n",
    "print(64*9)\n",
    "df.groupby([\"name\"], as_index=False)[\"number_of_rounds\"].count()\n"
   ]
  },
  {
   "cell_type": "markdown",
   "metadata": {},
   "source": [
    "## Compute the planning time, with first tour amortized."
   ]
  },
  {
   "cell_type": "code",
   "execution_count": null,
   "metadata": {},
   "outputs": [],
   "source": [
    "k_rounds_indices = df['first_tour_planning_time'].notna()\n",
    "\n",
    "# Sanity check\n",
    "first_entry =  df.loc[k_rounds_indices, 'planning_time_record'].map(lambda x: x[0]) \n",
    "assert (first_entry.isnull()).all()\n",
    "\n",
    "\n",
    "df.loc[k_rounds_indices, \"first_tour_planning_time\"] = df.loc[k_rounds_indices, \"first_tour_planning_time\"] / 10e9\n",
    "df.loc[k_rounds_indices, \"first_tour_planning_time_amortized\"] = df.loc[k_rounds_indices, 'first_tour_planning_time'] / (df.loc[k_rounds_indices, 'num_scenarios'])\n",
    "\n",
    "df['planning_time_record'] = df['planning_time_record'].apply(lambda x:[t/10e9 for t in x if t is not None])\n",
    "\n",
    "df.loc[k_rounds_indices, 'planning_time_record'] = df.loc[k_rounds_indices].apply(lambda x: [x['first_tour_planning_time_amortized']] + x['planning_time_record'], axis=1)\n",
    "df['Total_planning_time'] = df['planning_time_record'].apply(lambda x: sum(x))"
   ]
  },
  {
   "cell_type": "code",
   "execution_count": null,
   "metadata": {},
   "outputs": [],
   "source": [
    "df.rename({'visited': \"Visited\", \n",
    "           'partial_realization': \"Partial Realization\",\n",
    "           'item_': \"Item\", \n",
    "           'grand_tour_cost': \"Path Cost\",\n",
    "       'iteration': \"Iteration Taken\", \n",
    "       'time_taken': \"Time Taken (s)\", \n",
    "       'planning_time_record': \"Planning Time Per Round (s)\",\n",
    "       'first_tour_planning_time': \"Planning Time for First Tour (s)\", \n",
    "       'name': \"Problem Name\", \n",
    "       'problem': \"Problem Type\", \n",
    "       'l': \"Length of Grid\", \n",
    "       'number_of_rounds': \"Number of Rounds\",\n",
    "       'file_name': \"File Name\", \n",
    "       'num_scenarios': \"Number of Scenarios\",\n",
    "       'occlusions': \"Occlusions\",\n",
    "       'grand_tour_cost_fully_adaptive': \"Fully Adaptive Path Cost\", \n",
    "       'relative_difference': \"Relative Cost Per Scenario (vs. Fully Adaptive)\",\n",
    "       'first_tour_planning_time_amortized': \"Amortized Planning Time for First Tour (s)\", \n",
    "       'Total_planning_time': \"Planning Time (s)\"}, inplace=True, axis=1)"
   ]
  },
  {
   "cell_type": "markdown",
   "metadata": {},
   "source": [
    "# Analysis"
   ]
  },
  {
   "cell_type": "markdown",
   "metadata": {},
   "source": [
    "## Runtime"
   ]
  },
  {
   "cell_type": "code",
   "execution_count": null,
   "metadata": {},
   "outputs": [],
   "source": [
    "#df['Number of Rounds'] = df['Number of Rounds'].replace(np.inf, 'n')\n"
   ]
  },
  {
   "cell_type": "code",
   "execution_count": null,
   "metadata": {},
   "outputs": [],
   "source": [
    "\n",
    "road_data = df[df['Problem Type'].str.contains(\"road\")]\n",
    "uav_data = df[df['Problem Type'].str.contains(\"uav\")]\n",
    "\n",
    "# SMALL SIZE FOR POSTER \n",
    "# road_data = road_data[~road_data['Problem Name'].str.endswith(\"2\") | (road_data['Problem Name'] == \"road-60-50-2\")]\n",
    "\n",
    "###########\n",
    "\n",
    "hue_order = sorted(road_data['Problem Name'].unique())"
   ]
  },
  {
   "cell_type": "markdown",
   "metadata": {},
   "source": [
    "### Road Runtime Table"
   ]
  },
  {
   "cell_type": "code",
   "execution_count": null,
   "metadata": {},
   "outputs": [],
   "source": [
    "road_time_summary = road_data.groupby([\"Problem Name\", \"Number of Rounds\"], as_index=False)[\"Planning Time (s)\"].mean()\n",
    "road_time_summary_table = road_time_summary.set_index([\"Problem Name\", \"Number of Rounds\"]).unstack()\n",
    "road_time_summary_table"
   ]
  },
  {
   "cell_type": "code",
   "execution_count": null,
   "metadata": {},
   "outputs": [],
   "source": [
    "s = road_time_summary_table.style.format(precision=2).format_index(precision=0, axis=1)\n",
    "\n",
    "print(s.to_latex(buf=f'{tables_path}/road_time_table.tex',\n",
    "                 hrules=True, \n",
    "                 multicol_align=\"c\",\n",
    "                 environment='table', \n",
    "                 caption='Average Planning Time of Road Networks Across All Scenarios', \n",
    "                 label='tab:road_time', position='htbp', \n",
    "                 position_float='centering'))"
   ]
  },
  {
   "cell_type": "markdown",
   "metadata": {},
   "source": [
    "### UAV Runtime Table"
   ]
  },
  {
   "cell_type": "code",
   "execution_count": null,
   "metadata": {},
   "outputs": [],
   "source": [
    "uav_time = uav_data.groupby([\"Problem Name\", \"Number of Rounds\"], as_index=False)[\"Planning Time (s)\"].mean()\n",
    "\n",
    "uav_time_summary = uav_time.set_index([\"Problem Name\", \"Number of Rounds\"]).unstack()\n",
    "uav_time_summary = uav_time_summary.reindex(uav_table_order)\n",
    "uav_time_summary\n"
   ]
  },
  {
   "cell_type": "code",
   "execution_count": null,
   "metadata": {},
   "outputs": [],
   "source": [
    "s = uav_time_summary.style.format(precision=2).format_index(precision=0, axis=1)\n",
    "\n",
    "s.to_latex(buf=f'{tables_path}/uav_time_table.tex',\n",
    "            hrules=True, \n",
    "            multicol_align=\"c\", \n",
    "            environment='table', \n",
    "            caption='Average Planning of UAV Time Across All Scenarios', \n",
    "            label='tab:uav-time', \n",
    "            position='htbp', \n",
    "            position_float='centering')"
   ]
  },
  {
   "cell_type": "markdown",
   "metadata": {},
   "source": [
    "### Road Runtime Figure"
   ]
  },
  {
   "cell_type": "code",
   "execution_count": null,
   "metadata": {},
   "outputs": [],
   "source": [
    "road_data"
   ]
  },
  {
   "cell_type": "code",
   "execution_count": null,
   "metadata": {},
   "outputs": [],
   "source": [
    "fig1, ax1 = plt.subplots(figsize=(10, 6))\n",
    "sns.pointplot(x='Number of Rounds', y='Planning Time (s)', hue=\"Problem Name\", data=road_data, legend=\"full\", ax=ax1, hue_order = hue_order,linewidth = 1.5, errorbar=None)\n",
    "sns.move_legend(ax1, \"lower center\", bbox_to_anchor=(0.47, 1), ncol=3, title=None, frameon=False)\n",
    "ax1.set_xticklabels(['{:.0f}'.format(float(t.get_text()))  if float(t.get_text()) < 100000 else 'n' for t in ax1.get_xticklabels()])\n",
    "ax1.set_ylabel(\"Average Planning Time (s)\")\n",
    "fig1.savefig(f\"{figures_path}/road_time.pdf\", bbox_inches='tight')"
   ]
  },
  {
   "cell_type": "markdown",
   "metadata": {},
   "source": [
    "### UAV Runtime Figure"
   ]
  },
  {
   "cell_type": "code",
   "execution_count": null,
   "metadata": {},
   "outputs": [],
   "source": [
    "fig2, ax2 = plt.subplots(figsize=(10, 6))\n",
    "sns.pointplot(x='Number of Rounds', y='Planning Time (s)', hue=\"Problem Name\", data=uav_data, legend=\"full\", ax=ax2,linewidth = 1.5, errorbar=None, hue_order=uav_table_order)\n",
    "sns.move_legend(ax2, \"lower center\", bbox_to_anchor=(0.47, 1), ncol=3, title=None, frameon=False)\n",
    "ax2.set_xticklabels(['{:.0f}'.format(float(t.get_text())) if float(t.get_text()) < 100000 else 'n' for t in ax2.get_xticklabels()])\n",
    "fig2.savefig(f\"{figures_path}/uav_time.pdf\", bbox_inches='tight')"
   ]
  },
  {
   "cell_type": "markdown",
   "metadata": {},
   "source": [
    "## Cost"
   ]
  },
  {
   "cell_type": "markdown",
   "metadata": {},
   "source": [
    "### Road Cost Table"
   ]
  },
  {
   "cell_type": "code",
   "execution_count": null,
   "metadata": {},
   "outputs": [],
   "source": [
    "road_cost_summary = road_data.groupby([\"Problem Name\", \"Number of Rounds\"], as_index=False)[\"Path Cost\"].mean()\n",
    "road_cost_summary_table = road_cost_summary.set_index([\"Problem Name\", \"Number of Rounds\"]).unstack()\n",
    "road_cost_summary_table = road_cost_summary_table/1000"
   ]
  },
  {
   "cell_type": "code",
   "execution_count": null,
   "metadata": {},
   "outputs": [],
   "source": [
    "road_cost_summary_table"
   ]
  },
  {
   "cell_type": "code",
   "execution_count": null,
   "metadata": {},
   "outputs": [],
   "source": [
    "s = road_cost_summary_table.style.format(precision=0).format_index(precision=0, axis=1)\n",
    "\n",
    "s.to_latex(\n",
    "    buf=f'{tables_path}/road_cost_table.tex',\n",
    "    hrules=True,\n",
    "    multicol_align=\"c\", \n",
    "    environment='table', \n",
    "    caption='Average Cost for Road Networks (in km)', \n",
    "    label='tab:road_cost', \n",
    "    position='htbp', \n",
    "    position_float='centering')"
   ]
  },
  {
   "cell_type": "markdown",
   "metadata": {},
   "source": [
    "### UAV Cost Table"
   ]
  },
  {
   "cell_type": "code",
   "execution_count": null,
   "metadata": {},
   "outputs": [],
   "source": [
    "uav_cost_summary = uav_data.groupby([\"Problem Name\", \"Number of Rounds\"], as_index=False)[\"Path Cost\"].mean()\n",
    "uav_cost_summary_table = uav_cost_summary.set_index([\"Problem Name\", \"Number of Rounds\"]).unstack().reindex(uav_table_order)\n",
    "\n",
    "uav_cost_summary_table"
   ]
  },
  {
   "cell_type": "code",
   "execution_count": null,
   "metadata": {},
   "outputs": [],
   "source": [
    "s = uav_cost_summary_table.style.format(precision=2).format_index(precision=0, axis=1)\n",
    "s.to_latex(\n",
    "        buf=f'{tables_path}/uav_cost_table.tex',\n",
    "        hrules=True,\n",
    "        multicol_align=\"c\", \n",
    "        environment='table', \n",
    "        caption='Average Cost UAV', \n",
    "        label='tab:uav_cost', \n",
    "        position='htbp', \n",
    "        position_float='centering'\n",
    "    )"
   ]
  },
  {
   "cell_type": "markdown",
   "metadata": {},
   "source": [
    "### Road Cost Figure"
   ]
  },
  {
   "cell_type": "code",
   "execution_count": null,
   "metadata": {},
   "outputs": [],
   "source": [
    "fig3, ax3 = plt.subplots(figsize=(10, 6))\n",
    "hue_order = sorted(road_data['Problem Name'].unique())\n",
    "sns.pointplot(x='Number of Rounds', y='Path Cost', hue=\"Problem Name\", data=road_data, legend=\"full\", ax=ax3, hue_order = hue_order,linewidth = 1.5, errorbar=None)\n",
    "sns.move_legend(ax3, \"lower center\", bbox_to_anchor=(0.47, 1), ncol=5, title=None, frameon=False)\n",
    "ax3.set_xticklabels(['{:.0f}'.format(float(t.get_text())) if float(t.get_text()) < 100000 else 'n' for t in ax3.get_xticklabels()])\n",
    "fig3.savefig(f\"{figures_path}/road_cost.pdf\", bbox_inches='tight')"
   ]
  },
  {
   "cell_type": "markdown",
   "metadata": {},
   "source": [
    "### UAV Cost Figure"
   ]
  },
  {
   "cell_type": "code",
   "execution_count": null,
   "metadata": {},
   "outputs": [],
   "source": [
    "fig4, ax4 = plt.subplots(figsize=(10, 6))\n",
    "sns.pointplot(x='Number of Rounds', y='Path Cost', hue=\"Problem Name\", data=uav_data, legend=\"full\", ax=ax4, hue_order = uav_table_order,linewidth = 1.5, errorbar=None)\n",
    "sns.move_legend(ax4, \"lower center\", bbox_to_anchor=(0.47, 1), ncol=3, title=None, frameon=False)\n",
    "ax4.set_xticklabels(['{:.0f}'.format(float(t.get_text()))  if float(t.get_text()) < 100000 else 'n' for t in ax4.get_xticklabels()])\n",
    "fig4.savefig(f\"{figures_path}/uav_cost.pdf\", bbox_inches='tight')"
   ]
  },
  {
   "cell_type": "markdown",
   "metadata": {},
   "source": [
    "## Relative Improvement Per Scenario"
   ]
  },
  {
   "cell_type": "markdown",
   "metadata": {},
   "source": [
    "### Road Relative Cost Table"
   ]
  },
  {
   "cell_type": "code",
   "execution_count": null,
   "metadata": {},
   "outputs": [],
   "source": [
    "road_rc_summary = road_data.groupby([\"Problem Name\", \"Number of Rounds\"], as_index=False)[\"Relative Cost Per Scenario (vs. Fully Adaptive)\"].mean()\n",
    "road_rc_summary_table = road_rc_summary.set_index([\"Problem Name\", \"Number of Rounds\"]).unstack()\n",
    "road_rc_summary_table"
   ]
  },
  {
   "cell_type": "code",
   "execution_count": null,
   "metadata": {},
   "outputs": [],
   "source": [
    "road_rc_summary_table.mean()"
   ]
  },
  {
   "cell_type": "code",
   "execution_count": null,
   "metadata": {},
   "outputs": [],
   "source": [
    "s = road_rc_summary_table.style.format(precision=2).format_index(precision=0, axis=1)\n",
    "\n",
    "s.to_latex(\n",
    "    buf=f'{tables_path}/road_arc_table.tex',\n",
    "    hrules=True, \n",
    "    multicol_align=\"c\", \n",
    "    environment='table', \n",
    "    caption='Average Relative Cost Per Scenario (vs. Fully Adaptive) for Road Networks', \n",
    "    label='tab:road_arc', \n",
    "    position='htbp', \n",
    "    position_float='centering')"
   ]
  },
  {
   "cell_type": "markdown",
   "metadata": {},
   "source": [
    "### UAV Relative Cost Table"
   ]
  },
  {
   "cell_type": "code",
   "execution_count": null,
   "metadata": {},
   "outputs": [],
   "source": [
    "uav_rc_summary = uav_data.groupby([\"Problem Name\", \"Number of Rounds\"], as_index=False)[\"Relative Cost Per Scenario (vs. Fully Adaptive)\"].mean()\n",
    "uav_rc_summary_table = uav_rc_summary.set_index([\"Problem Name\", \"Number of Rounds\"]).unstack().reindex(uav_table_order)\n",
    "uav_rc_summary_table"
   ]
  },
  {
   "cell_type": "code",
   "execution_count": null,
   "metadata": {},
   "outputs": [],
   "source": [
    "uav_rc_summary_table.mean()"
   ]
  },
  {
   "cell_type": "code",
   "execution_count": null,
   "metadata": {},
   "outputs": [],
   "source": [
    "s = uav_rc_summary_table.style.format(precision=2).format_index(precision=0, axis=1)\n",
    "s.to_latex(\n",
    "    buf=f'{tables_path}/uav_arc_table.tex',\n",
    "    hrules=True, \n",
    "    multicol_align=\"c\", \n",
    "    environment='table', \n",
    "    caption='Average Relative Cost Per Scenario (vs. Fully Adaptive) for UAV Search', \n",
    "    label='tab:uav_arc', \n",
    "    position='htbp',\n",
    "    position_float='centering')"
   ]
  },
  {
   "cell_type": "markdown",
   "metadata": {},
   "source": [
    "### Road Relative Cost Figure"
   ]
  },
  {
   "cell_type": "code",
   "execution_count": null,
   "metadata": {},
   "outputs": [],
   "source": [
    "fig5, ax5 = plt.subplots(figsize=(10, 6))\n",
    "hue_order = sorted(road_data['Problem Name'].unique())\n",
    "sns.pointplot(x='Number of Rounds', y='Relative Cost Per Scenario (vs. Fully Adaptive)', hue=\"Problem Name\", data=road_data, legend=\"full\", ax=ax5, hue_order = hue_order,linewidth = 1.5, errorbar=None)\n",
    "sns.move_legend(ax5, \"lower center\", bbox_to_anchor=(0.5, 1), ncol=3, title=None, frameon=False)\n",
    "ax5.set_xticklabels(['{:.0f}'.format(float(t.get_text())) if float(t.get_text()) < 100000 else 'n' for t in ax5.get_xticklabels()])\n",
    "ax5.set_ylabel(\"Average Relative Cost Per Scenario\")\n",
    "fig5.savefig(f\"{figures_path}/road_arc.pdf\", bbox_inches='tight')"
   ]
  },
  {
   "cell_type": "markdown",
   "metadata": {},
   "source": [
    "### UAV Relative Cost Figure"
   ]
  },
  {
   "cell_type": "code",
   "execution_count": null,
   "metadata": {},
   "outputs": [],
   "source": [
    "fig6, ax6 = plt.subplots(figsize=(10, 6))\n",
    "sns.pointplot(x='Number of Rounds', y='Relative Cost Per Scenario (vs. Fully Adaptive)', hue=\"Problem Name\", data=uav_data, legend=\"full\", ax=ax6, hue_order = uav_table_order,linewidth = 1.5, errorbar=None)\n",
    "sns.move_legend(ax6, \"lower center\", bbox_to_anchor=(0.5, 1), ncol=3, title=None, frameon=False)\n",
    "ax6.set_ylabel(\"Average Relative Cost Per Scenario\")\n",
    "ax6.set_xticklabels(['{:.0f}'.format(float(t.get_text())) if float(t.get_text()) < 100000 else 'n'  for t in ax6.get_xticklabels()])\n",
    "fig6.savefig(f\"{figures_path}/uav_arc.pdf\", bbox_inches='tight')"
   ]
  },
  {
   "cell_type": "code",
   "execution_count": null,
   "metadata": {},
   "outputs": [],
   "source": []
  },
  {
   "cell_type": "markdown",
   "metadata": {},
   "source": [
    "-Reduce the detail of uav and star\n",
    "\n",
    "-remove star\n",
    "\n",
    "-The ICM is parametarized by edge probabilities and we ... \n",
    "\n",
    "-Report the expected cost and the average computational time over all scenario. One would expect that the expected cost decreases with the number of rounds\n",
    "\n",
    "- While there is a general trend that the ... decrease with the number of cost. Randomness based on stochastic tree embedding.\n",
    "\n",
    "Thm 4.1. There is a randomized k-rounds algorithm for hypothesis identification. \n",
    "\n",
    "Our algorithm from thm 4.1 is randomized because of the probabilistic tree embedding. \n",
    "\n",
    "The table is misleading. \n",
    "\n",
    "Explain that there is a genearl trend, some of them there is a more significant reduction that others.\n",
    "\n",
    "Explain that fully adaptive. Instances is 1 paragraph. Tested algorithms. Reported quantities: expected cost (give the equation). \n"
   ]
  },
  {
   "cell_type": "markdown",
   "metadata": {},
   "source": [
    "## Relative Improvement"
   ]
  },
  {
   "cell_type": "markdown",
   "metadata": {},
   "source": [
    "### Road Relative Imrpovement Table"
   ]
  },
  {
   "cell_type": "code",
   "execution_count": null,
   "metadata": {},
   "outputs": [],
   "source": [
    "road_ri_summary = road_data.groupby([\"Problem Name\", \"Number of Rounds\"], as_index=False)[[\"Path Cost\", \"Fully Adaptive Path Cost\"]].mean()\n",
    "road_ri_summary[\"Relative Average Cost (vs. Fully Adaptive)\"] = (road_ri_summary[\"Path Cost\"]- road_ri_summary[\"Fully Adaptive Path Cost\"] )/road_ri_summary[\"Fully Adaptive Path Cost\"] * 100\n",
    "road_ri_summary.drop([\"Path Cost\", \"Fully Adaptive Path Cost\"], axis=1, inplace=True)\n",
    "road_ri_summary_table = road_ri_summary.set_index([\"Problem Name\", \"Number of Rounds\"]).unstack().reindex(hue_order)\n",
    "road_ri_summary_table"
   ]
  },
  {
   "cell_type": "code",
   "execution_count": null,
   "metadata": {},
   "outputs": [],
   "source": [
    "s = road_ri_summary_table.style.format(precision=2).format_index(precision=0, axis=1)\n",
    "\n",
    "s.to_latex(\n",
    "    buf=f'{tables_path}/road_rac_table.tex',\n",
    "    hrules=True, \n",
    "    multicol_align=\"c\", \n",
    "    environment='table', \n",
    "    caption='Relative Average Cost (vs. Fully Adaptive) for Road Networks', \n",
    "    label='tab:road_rac', \n",
    "    position='htbp', \n",
    "    position_float='centering')"
   ]
  },
  {
   "cell_type": "markdown",
   "metadata": {},
   "source": [
    "### UAV Relative Improvement Table"
   ]
  },
  {
   "cell_type": "code",
   "execution_count": null,
   "metadata": {},
   "outputs": [],
   "source": [
    "uav_ri_summary = uav_data.groupby([\"Problem Name\", \"Number of Rounds\"], as_index=False)[[\"Path Cost\", \"Fully Adaptive Path Cost\"]].mean()\n",
    "uav_ri_summary[\"Relative Average Cost (vs. Fully Adaptive)\"] = (uav_ri_summary[\"Path Cost\"]- uav_ri_summary[\"Fully Adaptive Path Cost\"] )/uav_ri_summary[\"Fully Adaptive Path Cost\"] * 100\n",
    "uav_ri_summary.drop([\"Path Cost\", \"Fully Adaptive Path Cost\"], axis=1, inplace=True)\n",
    "uav_ri_summary_table = uav_ri_summary.set_index([\"Problem Name\", \"Number of Rounds\"]).unstack().reindex(uav_table_order)\n",
    "uav_ri_summary_table"
   ]
  },
  {
   "cell_type": "code",
   "execution_count": null,
   "metadata": {},
   "outputs": [],
   "source": [
    "s = uav_ri_summary_table.style.format(precision=2).format_index(precision=0, axis=1)\n",
    "\n",
    "s.to_latex(\n",
    "    buf=f'{tables_path}/uav_rac_table.tex',\n",
    "    hrules=True, \n",
    "    multicol_align=\"c\", \n",
    "    environment='table', \n",
    "    caption='Relative Average Cost (vs. Fully Adaptive) for UAV Search', \n",
    "    label='tab:uav_rac', \n",
    "    position='htbp', \n",
    "    position_float='centering')"
   ]
  },
  {
   "cell_type": "markdown",
   "metadata": {},
   "source": [
    "### Road Relative Improvement Figure"
   ]
  },
  {
   "cell_type": "code",
   "execution_count": null,
   "metadata": {},
   "outputs": [],
   "source": [
    "fig7, ax7 = plt.subplots(figsize=(10, 6))\n",
    "hue_order = sorted(road_data['Problem Name'].unique())\n",
    "sns.pointplot(x='Number of Rounds', y='Relative Average Cost (vs. Fully Adaptive)', hue=\"Problem Name\", data=road_ri_summary, legend=\"full\", ax=ax7, hue_order = hue_order,linewidth = 1.5, errorbar=None)\n",
    "sns.move_legend(ax7, \"lower center\", bbox_to_anchor=(0.5, 1), ncol=4, title=None, frameon=False)\n",
    "ax7.set_xticklabels(['{:.0f}'.format(float(t.get_text())) if float(t.get_text()) < 100000 else 'n' for t in ax7.get_xticklabels()])\n",
    "fig7.savefig(f\"{figures_path}/road_rac.pdf\", bbox_inches='tight')"
   ]
  },
  {
   "cell_type": "code",
   "execution_count": null,
   "metadata": {},
   "outputs": [],
   "source": [
    "fig8, ax8 = plt.subplots(figsize=(10, 6))\n",
    "sns.pointplot(x='Number of Rounds', y='Relative Average Cost (vs. Fully Adaptive)', hue=\"Problem Name\", data=uav_ri_summary, legend=\"full\", ax=ax8, hue_order = uav_table_order,linewidth = 1.5, errorbar=None)\n",
    "sns.move_legend(ax8, \"lower center\", bbox_to_anchor=(0.5, 1), ncol=3, title=None, frameon=False)\n",
    "\n",
    "ax8.set_xticklabels(['{:.0f}'.format(float(t.get_text())) if float(t.get_text()) < 100000 else 'n' for t in ax8.get_xticklabels()])\n",
    "fig8.savefig(f\"{figures_path}/uav_rac.pdf\", bbox_inches='tight')"
   ]
  },
  {
   "cell_type": "markdown",
   "metadata": {},
   "source": [
    "## Road Figures Combined"
   ]
  },
  {
   "cell_type": "code",
   "execution_count": null,
   "metadata": {},
   "outputs": [],
   "source": [
    "fig9, ax9 = plt.subplots(figsize=(10, 4))\n",
    "sns.pointplot(x='Number of Rounds', y='Relative Average Cost (vs. Fully Adaptive)', hue=\"Problem Name\", data=road_ri_summary, legend=\"full\", ax=ax9, hue_order = hue_order,linewidth = 1.5, errorbar=None)\n",
    "\n",
    "ax9.set_ylabel(\"Relative Average Cost\")\n",
    "ax9.set_xticklabels(['{:.0f}'.format(float(t.get_text())) for t in ax9.get_xticklabels()])\n",
    "fig9.savefig(f\"{figures_path}/road_combined_rac.pdf\", bbox_inches='tight')"
   ]
  },
  {
   "cell_type": "code",
   "execution_count": null,
   "metadata": {},
   "outputs": [],
   "source": [
    "fig10, ax10 = plt.subplots(figsize=(10, 4))\n",
    "sns.pointplot(x='Number of Rounds', y='Relative Cost Per Scenario (vs. Fully Adaptive)', hue=\"Problem Name\", data=road_data, ax=ax10, hue_order = hue_order,linewidth = 1.5, errorbar=None, legend=None)\n",
    "ax10.set_ylabel(\"Average Relative Cost \\nPer Scenario\")\n",
    "ax10.set_xticklabels(['{:.0f}'.format(float(t.get_text())) if float(t.get_text()) < 100000 else 'n' for t in ax10.get_xticklabels()])\n",
    "fig10.savefig(f\"{figures_path}/road_combined_arc.pdf\", bbox_inches='tight')"
   ]
  },
  {
   "cell_type": "code",
   "execution_count": null,
   "metadata": {},
   "outputs": [],
   "source": [
    "fig11, ax11 = plt.subplots(figsize=(10, 4))\n",
    "sns.pointplot(x='Number of Rounds', y='Planning Time (s)', hue=\"Problem Name\", data=road_data, ax=ax11, hue_order = hue_order,linewidth = 1.5, errorbar=None)\n",
    "sns.move_legend(ax11, \"lower center\", bbox_to_anchor=(0.45, 1), ncol=4, title=None, frameon=False)\n",
    "ax11.set_xticklabels(['{:.0f}'.format(float(t.get_text())) if float(t.get_text()) < 100000 else 'n' for t in ax11.get_xticklabels()])\n",
    "fig11.savefig(f\"{figures_path}/road_combined_time.pdf\", bbox_inches='tight')"
   ]
  },
  {
   "cell_type": "code",
   "execution_count": null,
   "metadata": {},
   "outputs": [],
   "source": [
    "fig12, ax12 = plt.subplots(figsize=(10, 4))\n",
    "sns.pointplot(x='Number of Rounds', y='Relative Cost Per Scenario (vs. Fully Adaptive)', hue=\"Problem Name\", data=uav_data, legend=None, ax=ax12, hue_order = uav_table_order,linewidth = 1.5, errorbar=None)\n",
    "ax12.set_ylabel(\"Average Relative Cost\\nPer Scenario\")\n",
    "ax12.set_xticklabels(['{:.0f}'.format(float(t.get_text())) if float(t.get_text()) < 100000 else 'n' for t in ax12.get_xticklabels()])\n",
    "fig12.savefig(f\"{figures_path}/uav_combined_arc.pdf\", bbox_inches='tight')"
   ]
  },
  {
   "cell_type": "code",
   "execution_count": null,
   "metadata": {},
   "outputs": [],
   "source": [
    "fig11, ax11 = plt.subplots(figsize=(10, 4))\n",
    "sns.pointplot(x='Number of Rounds', y='Planning Time (s)', hue=\"Problem Name\", data=uav_data, ax=ax11, hue_order = uav_table_order,linewidth = 1.5, errorbar=None)\n",
    "sns.move_legend(ax11, \"lower center\", bbox_to_anchor=(0.45, 1), ncol=3, title=None, frameon=False)\n",
    "ax11.set_xticklabels(['{:.0f}'.format(float(t.get_text())) if float(t.get_text()) < 100000 else 'n' for t in ax11.get_xticklabels()])\n",
    "fig11.savefig(f\"{figures_path}/uav_combined_time.pdf\", bbox_inches='tight')"
   ]
  },
  {
   "cell_type": "code",
   "execution_count": null,
   "metadata": {},
   "outputs": [],
   "source": [
    "result = []\n",
    "for file_name in os.listdir(data_path+\"/road_data\"):\n",
    "    components = file_name.split(\".\")[0].split(\"_\")\n",
    "    if len(components) > 3 and components[0] == 'sensing' and components[3] == '50':\n",
    "        suffix = \"-2\" if len(components) > 4 else \"\"\n",
    "        name = f\"road-{components[2]}-50{suffix}\"\n",
    "        mat = np.load(f\"{data_path}/road_data/{file_name}\")\n",
    "        result.append((name, mat.sum(axis=1).mean(), mat.sum(axis=0).mean()))\n",
    "        "
   ]
  },
  {
   "cell_type": "code",
   "execution_count": null,
   "metadata": {},
   "outputs": [],
   "source": [
    "sensing_df = pd.DataFrame(result, columns=[\"Instance Name\", \"Average Number of Scenarios per Node\", \"Average Nodes Per Scenario\"])"
   ]
  },
  {
   "cell_type": "code",
   "execution_count": null,
   "metadata": {},
   "outputs": [],
   "source": [
    "sensing_df.set_index(\"Instance Name\", inplace=True)\n",
    "sensing_df = sensing_df.reindex(hue_order)"
   ]
  },
  {
   "cell_type": "code",
   "execution_count": null,
   "metadata": {},
   "outputs": [],
   "source": [
    "sensing_df"
   ]
  },
  {
   "cell_type": "code",
   "execution_count": null,
   "metadata": {},
   "outputs": [],
   "source": [
    "s = sensing_df.style.format(precision=2)\n",
    "buf=f'{tables_path}/sensing_matrix_summary.tex'\n",
    "print(s.to_latex(\n",
    "    hrules=True, \n",
    "    multicol_align=\"c\", \n",
    "    environment='table', \n",
    "    caption='Statistics of Sensing Matrix',\n",
    "    label='tab:sensing_stats', \n",
    "    position='htbp', \n",
    "    position_float='centering'))"
   ]
  },
  {
   "cell_type": "code",
   "execution_count": null,
   "metadata": {},
   "outputs": [],
   "source": [
    "sns.pointplot(x='Number of Rounds', y='Iteration Taken', hue=\"Problem Name\", data=uav_data, hue_order = uav_table_order,linewidth = 1.5, errorbar=None)\n",
    "plt.show()"
   ]
  },
  {
   "cell_type": "code",
   "execution_count": null,
   "metadata": {},
   "outputs": [],
   "source": [
    "road_data[\"Iteration Taken\"]"
   ]
  },
  {
   "cell_type": "code",
   "execution_count": null,
   "metadata": {},
   "outputs": [],
   "source": [
    "road_data.groupby(\"Number of Rounds\")['Planning Time (s)'].mean()"
   ]
  },
  {
   "cell_type": "code",
   "execution_count": null,
   "metadata": {},
   "outputs": [],
   "source": [
    "road_data.groupby(\"Number of Rounds\")['Relative Cost Per Scenario (vs. Fully Adaptive)'].mean()"
   ]
  },
  {
   "cell_type": "code",
   "execution_count": null,
   "metadata": {},
   "outputs": [],
   "source": [
    "122.319875/7.625560"
   ]
  },
  {
   "cell_type": "code",
   "execution_count": null,
   "metadata": {},
   "outputs": [],
   "source": [
    "(12.906671-  0.639472)/ 0.639472"
   ]
  },
  {
   "cell_type": "code",
   "execution_count": null,
   "metadata": {},
   "outputs": [],
   "source": [
    "6*16"
   ]
  },
  {
   "cell_type": "markdown",
   "metadata": {},
   "source": [
    "INFORMS PAPER PLOTS\n"
   ]
  },
  {
   "cell_type": "code",
   "execution_count": null,
   "metadata": {},
   "outputs": [],
   "source": [
    "fig_ir, axes_ir = plt.subplots(nrows=1,ncols=2, figsize=(20, 6))\n",
    "axr1 = axes_ir[0]\n",
    "axr2 = axes_ir[1]\n",
    "sns.pointplot(x='Number of Rounds', y='Planning Time (s)', hue=\"Problem Name\", data=road_data, legend=\"full\", ax=axr1, hue_order = hue_order,linewidth = 1.5, errorbar=None)\n",
    "axr1.set_xticklabels(['{:.0f}'.format(float(t.get_text()))  if float(t.get_text()) < 100000 else 'n' for t in axr1.get_xticklabels()])\n",
    "axr1.set_ylabel(\"Average Planning Time (s)\")\n",
    "\n",
    "hue_order = sorted(road_data['Problem Name'].unique())\n",
    "sns.pointplot(x='Number of Rounds', y='Relative Cost Per Scenario (vs. Fully Adaptive)', hue=\"Problem Name\", data=road_data, legend=False, ax=axr2, hue_order = hue_order,linewidth = 1.5, errorbar=None)\n",
    "axr2.set_xticklabels(['{:.0f}'.format(float(t.get_text())) if float(t.get_text()) < 100000 else 'n' for t in axr2.get_xticklabels()])\n",
    "axr2.set_ylabel(\"Average Relative Cost Per Scenario\")\n",
    "# handles, labels = axr1.get_legend_handles_labels()\n",
    "# fig_ir.legend(handles, labels, loc='upper center', ncols=5, frameon=False, bbox_to_anchor=(0.5, 1.1))\n",
    "sns.move_legend(axr1, \"upper center\", bbox_to_anchor=(1, 1.25), ncol=5, title=None, frameon=False)\n",
    "\n",
    "fig_ir.savefig(f\"{figures_path}/road_informs.pdf\", bbox_inches='tight')"
   ]
  },
  {
   "cell_type": "code",
   "execution_count": null,
   "metadata": {},
   "outputs": [],
   "source": [
    "# fig4, ax4 = plt.subplots(figsize=(10, 6))\n",
    "# sns.pointplot(x='Number of Rounds', y='Path Cost', hue=\"Problem Name\", data=uav_data, legend=\"full\", ax=ax4, hue_order = uav_table_order,linewidth = 1.5, errorbar=None)\n",
    "# sns.move_legend(ax4, \"lower center\", bbox_to_anchor=(0.47, 1), ncol=3, title=None, frameon=False)\n",
    "# ax4.set_xticklabels(['{:.0f}'.format(float(t.get_text()))  if float(t.get_text()) < 100000 else 'n' for t in ax4.get_xticklabels()])\n",
    "# fig4.savefig(f\"{figures_path}/uav_cost.pdf\", bbox_inches='tight')\n",
    "\n",
    "fig_iu, axes_iu = plt.subplots(nrows=1,ncols=2, figsize=(20, 6))\n",
    "axu1 = axes_iu[0]\n",
    "axu2 = axes_iu[1]\n",
    "sns.pointplot(x='Number of Rounds', y='Planning Time (s)', hue=\"Problem Name\", data=uav_data, legend=\"full\", ax=axu1, hue_order = uav_table_order,linewidth = 1.5, errorbar=None)\n",
    "axu1.set_xticklabels(['{:.0f}'.format(float(t.get_text()))  if float(t.get_text()) < 100000 else 'n' for t in axu1.get_xticklabels()])\n",
    "axu1.set_ylabel(\"Average Planning Time (s)\")\n",
    "\n",
    "sns.pointplot(x='Number of Rounds', y='Relative Cost Per Scenario (vs. Fully Adaptive)', hue=\"Problem Name\", data=uav_data, legend=False, ax=axu2, hue_order = uav_table_order,linewidth = 1.5, errorbar=None)\n",
    "axu2.set_xticklabels(['{:.0f}'.format(float(t.get_text())) if float(t.get_text()) < 100000 else 'n' for t in axu2.get_xticklabels()])\n",
    "axu2.set_ylabel(\"Average Relative Cost Per Scenario\")\n",
    "# handles, labels = axu1.get_legend_handles_labels()\n",
    "# fig_iu.legend(handles, labels, loc='upper center', ncols=6, frameon=False, bbox_to_anchor=(0.5, 1))\n",
    "sns.move_legend(axu1, \"upper center\", bbox_to_anchor=(1.1, 1.15), ncol=6, title=None, frameon=False)\n",
    "\n",
    "fig_iu.savefig(f\"{figures_path}/uav_informs.pdf\", bbox_inches='tight')"
   ]
  },
  {
   "cell_type": "code",
   "execution_count": null,
   "metadata": {},
   "outputs": [],
   "source": []
  },
  {
   "cell_type": "code",
   "execution_count": null,
   "metadata": {},
   "outputs": [],
   "source": []
  }
 ],
 "metadata": {
  "kernelspec": {
   "display_name": "venv",
   "language": "python",
   "name": "python3"
  },
  "language_info": {
   "codemirror_mode": {
    "name": "ipython",
    "version": 3
   },
   "file_extension": ".py",
   "mimetype": "text/x-python",
   "name": "python",
   "nbconvert_exporter": "python",
   "pygments_lexer": "ipython3",
   "version": "3.11.5"
  },
  "orig_nbformat": 4
 },
 "nbformat": 4,
 "nbformat_minor": 2
}
